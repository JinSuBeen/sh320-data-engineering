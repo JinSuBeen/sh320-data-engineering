{
 "cells": [
  {
   "cell_type": "markdown",
   "metadata": {},
   "source": [
    "## <strong> 7. NumPy 고급 기능 </strong>\n",
    "+ 브로드캐스팅 (broadcasting)\n",
    "+ 마스킹 (masking)\n",
    "+ 팬시 인덱싱 (fancy indexing)"
   ]
  },
  {
   "cell_type": "code",
   "execution_count": null,
   "metadata": {},
   "outputs": [],
   "source": [
    "import numpy as np"
   ]
  },
  {
   "cell_type": "markdown",
   "metadata": {},
   "source": [
    "### <strong> 브로드캐스팅 연산 </strong>\n",
    "+ ```np.ones()```: 1로 이루어진 NumPy 배열 생성"
   ]
  },
  {
   "cell_type": "code",
   "execution_count": null,
   "metadata": {},
   "outputs": [],
   "source": [
    "# 1D + 스칼라\n",
    "a = np.array([0, 1, 2])\n",
    "print(a + 5)"
   ]
  },
  {
   "cell_type": "code",
   "execution_count": null,
   "metadata": {},
   "outputs": [],
   "source": [
    "# 1D + 2D 배열\n",
    "a = ...      # [+] 1로 이루어진 (3, 3)의 배열 생성\n",
    "print(a, '\\n')\n",
    "\n",
    "b = ...  # [+] [0, 1, 2]로 이루어진 정수 배열 생성\n",
    "print(b, '\\n')\n",
    "\n",
    "print(a+b)"
   ]
  },
  {
   "cell_type": "code",
   "execution_count": null,
   "metadata": {},
   "outputs": [],
   "source": [
    "# 두 배열 모두 브로드캐스팅이 적용되는 경우\n",
    "a = np.arange(3)\n",
    "a = ...   # [+] 차원 추가: (3,) -> (3, 1)\n",
    "print(a, '\\n')\n",
    "\n",
    "b = np.arange(3)\n",
    "print(b, '\\n')\n",
    "\n",
    "print(a + b)"
   ]
  },
  {
   "cell_type": "markdown",
   "metadata": {},
   "source": [
    "### <strong> 브로드캐스팅 규칙 </strong>"
   ]
  },
  {
   "cell_type": "code",
   "execution_count": null,
   "metadata": {},
   "outputs": [],
   "source": [
    "# 예제: 1D + 2D\n",
    "a = np.ones((2, 3))\n",
    "b = np.arange(3)\n",
    "\n",
    "a+b"
   ]
  },
  {
   "cell_type": "code",
   "execution_count": null,
   "metadata": {},
   "outputs": [],
   "source": [
    "# 예제: 두 배열 모두 브로드캐스팅이 적용되는 경우\n",
    "a = np.arange(3)\n",
    "a = a.reshape((3, 1))\n",
    "b = np.arange(3)\n",
    "\n",
    "a+b"
   ]
  },
  {
   "cell_type": "code",
   "execution_count": null,
   "metadata": {},
   "outputs": [],
   "source": [
    "# 예제: 브로드캐스팅이 불가능한 경우\n",
    "a = np.ones((3, 2))\n",
    "print(a, '\\n')\n",
    "\n",
    "b = np.arange(3)\n",
    "print(b, '\\n')\n",
    "\n",
    "print(a + b)"
   ]
  },
  {
   "cell_type": "markdown",
   "metadata": {},
   "source": [
    "### <strong> 비교 연산, 마스크, 불리언 연산 </strong>"
   ]
  },
  {
   "cell_type": "code",
   "execution_count": null,
   "metadata": {},
   "outputs": [],
   "source": [
    "# 배열의 비교 연산(마스킹)\n",
    "x = np.array([1, 2, 3, 4, 5])\n",
    "\n",
    "print(x < 3)\n",
    "print(x >= 3)\n",
    "print(x != 3)\n",
    "print(x == 3)"
   ]
  },
  {
   "cell_type": "markdown",
   "metadata": {},
   "source": [
    "#### **예제: 시애틀 2014년 강수량**"
   ]
  },
  {
   "cell_type": "code",
   "execution_count": null,
   "metadata": {},
   "outputs": [],
   "source": [
    "import pandas as pd  # 데이터 조작을 위한 라이브러리\n",
    "\n",
    "df = pd.read_csv('data/seattle2014.csv')\n",
    "prcp = df['PRCP'].values   # PRCP: Precipitation (강수량)\n",
    "prcp = prcp / 254.0  # 인치(inch) 단위로 변환\n",
    "prcp[:10]"
   ]
  },
  {
   "cell_type": "code",
   "execution_count": null,
   "metadata": {},
   "outputs": [],
   "source": [
    "# [+] 비가 온 날은 며칠일까?\n",
    "..."
   ]
  },
  {
   "cell_type": "code",
   "execution_count": null,
   "metadata": {},
   "outputs": [],
   "source": [
    "# [+] 비가 온 날의 평균 강수량은?\n",
    "..."
   ]
  },
  {
   "cell_type": "code",
   "execution_count": null,
   "metadata": {},
   "outputs": [],
   "source": [
    "# [+] 0.5인치 이상 비가 온 날은 며칠?\n",
    "..."
   ]
  },
  {
   "cell_type": "markdown",
   "metadata": {},
   "source": [
    "#### **시각화 라이브러리 (seaborn) 설치**"
   ]
  },
  {
   "cell_type": "code",
   "execution_count": null,
   "metadata": {},
   "outputs": [],
   "source": [
    "!pip install seaborn"
   ]
  },
  {
   "cell_type": "code",
   "execution_count": null,
   "metadata": {},
   "outputs": [],
   "source": [
    "# 시각화 설정 코드\n",
    "%matplotlib inline\n",
    "import matplotlib.pyplot as plt\n",
    "import seaborn; seaborn.set() \n",
    "%config InlineBackend.figure_format = 'svg'"
   ]
  },
  {
   "cell_type": "code",
   "execution_count": null,
   "metadata": {},
   "outputs": [],
   "source": [
    "# 강수량 히스토그램 시각화\n",
    "plt.hist(prcp, 40);"
   ]
  },
  {
   "cell_type": "code",
   "execution_count": null,
   "metadata": {},
   "outputs": [],
   "source": [
    "# 다차원 배열의 비교 연산\n",
    "np.random.seed(0)\n",
    "x = np.random.randint(10, size=(3, 4))\n",
    "print(x, '\\n')\n",
    "\n",
    "print(x < 6)"
   ]
  },
  {
   "cell_type": "code",
   "execution_count": null,
   "metadata": {},
   "outputs": [],
   "source": [
    "# Boolean 배열 연산\n",
    "print(np.count_nonzero(x < 6))  # [+] 6보다 작은가? np.count_nonzero()\n",
    "print(np.sum(x < 6))            # [+] 6보다 작은가? np.sum()\n",
    "print(np.any(x > 8))            # [+] 8보다 큰 값이 있는가?\n",
    "print(np.all(x > 1))            # [+] 모든 값이 1보다 큰가? "
   ]
  },
  {
   "cell_type": "code",
   "execution_count": null,
   "metadata": {},
   "outputs": [],
   "source": [
    "# Boolean 배열을 이용한 데이터 선택\n",
    "print(x, '\\n')\n",
    "print(x < 5, '\\n')\n",
    "\n",
    "print(x[x < 5])"
   ]
  },
  {
   "cell_type": "markdown",
   "metadata": {},
   "source": [
    "### <strong> 팬시 인덱싱(fancy indexing) </strong>"
   ]
  },
  {
   "cell_type": "code",
   "execution_count": null,
   "metadata": {},
   "outputs": [],
   "source": [
    "# 난수 배열 생성\n",
    "np.random.seed(1)\n",
    "x = np.random.randint(100, size=10)\n",
    "x"
   ]
  },
  {
   "cell_type": "code",
   "execution_count": null,
   "metadata": {},
   "outputs": [],
   "source": [
    "# 기본 문법: 2, 4, 6번 원소 선택하기\n",
    "a = x[2]\n",
    "b = x[4]\n",
    "c = x[6]\n",
    "\n",
    "print([a, b, c])"
   ]
  },
  {
   "cell_type": "code",
   "execution_count": null,
   "metadata": {},
   "outputs": [],
   "source": [
    "# 팬시 인덱싱: 2, 4, 6번 원소 선택하기\n",
    "ind = ...  # [+] 인덱스 배열 생성\n",
    "...        # [+] 인덱스 배열을 이용한 값 선택"
   ]
  },
  {
   "cell_type": "code",
   "execution_count": null,
   "metadata": {},
   "outputs": [],
   "source": [
    "# 팬시 인덱싱: 다차원 배열\n",
    "np.random.seed(2)\n",
    "x = np.random.randint(10, size=(3, 5))\n",
    "print(x, '\\n')\n",
    "\n",
    "row = [0, 1, 2]\n",
    "col = [2, 1, 4]\n",
    "\n",
    "print(x[row, col])"
   ]
  },
  {
   "cell_type": "code",
   "execution_count": null,
   "metadata": {},
   "outputs": [],
   "source": [
    "# 팬시 인덱싱: 다차원 배열 + 브로드캐스팅\n",
    "row = np.array([0, 1, 2])\n",
    "col = np.array([2, 1, 4])\n",
    "\n",
    "x[row[:, np.newaxis], col]"
   ]
  },
  {
   "cell_type": "code",
   "execution_count": null,
   "metadata": {},
   "outputs": [],
   "source": [
    "# 결합 인덱싱\n",
    "x = np.arange(1, 13).reshape(3, 4)\n",
    "print(x, '\\n')\n",
    "\n",
    "ind = [2, 0, 1]\n",
    "\n",
    "print(x[2, ind], '\\n')\n",
    "print(x[1:, [2, 0, 1]])"
   ]
  },
  {
   "cell_type": "markdown",
   "metadata": {},
   "source": [
    "#### **예제: 팬시 인덱싱을 이용한 임의의 점 집합 선택하기**\n",
    "+ ```np.random.seed()```: 난수 생성을 위한 초기상태(seed)를 관리 (전역적 상태)\n",
    "+ ```np.random.RandomState()```: seed를 별도 객체에서 관리 (지역적 상태) ${\\rightarrow}$ 독립적인 난수 생성기를 여러 개 생성 가능"
   ]
  },
  {
   "cell_type": "code",
   "execution_count": null,
   "metadata": {},
   "outputs": [],
   "source": [
    "mean = [0, 0]     # 평균\n",
    "cov = [[1, 2],    # 공분산\n",
    "      [2, 5]]\n",
    "\n",
    "rand = np.random.RandomState(1)  # RandomState: 시드를 별도 객체에서 관리\n",
    "x = rand.multivariate_normal(mean, cov, 100)  # 정규분포 다변량 데이터 생성\n",
    "print(x[:10])\n",
    "print(x.shape)"
   ]
  },
  {
   "cell_type": "code",
   "execution_count": null,
   "metadata": {},
   "outputs": [],
   "source": [
    "# 산포도 출력: scatter(x, y)\n",
    "plt.scatter(x[:, 0], x[:, 1]);"
   ]
  },
  {
   "cell_type": "code",
   "execution_count": null,
   "metadata": {},
   "outputs": [],
   "source": [
    "# 20개의 점을 무작위 추출(random sampling) -> 인덱스 값을 리턴\n",
    "ind = np.random.choice(x.shape[0], 20, replace=False)\n",
    "print(ind)"
   ]
  },
  {
   "cell_type": "code",
   "execution_count": null,
   "metadata": {},
   "outputs": [],
   "source": [
    "# 선택된 점 집합 출력\n",
    "selected = x[ind]      # 팬시 인덱싱\n",
    "print(selected)\n",
    "print(selected.shape)"
   ]
  },
  {
   "cell_type": "code",
   "execution_count": null,
   "metadata": {},
   "outputs": [],
   "source": [
    "# 선택된 점 집합 시각화\n",
    "plt.scatter(x[:, 0], x[:, 1], alpha=0.3)    # 원본 점 집합\n",
    "plt.scatter(selected[:, 0], selected[:, 1], # 선택된 점 집합\n",
    "            facecolor='red', s=50);"
   ]
  }
 ],
 "metadata": {
  "kernelspec": {
   "display_name": "Python 3 (ipykernel)",
   "language": "python",
   "name": "python3"
  },
  "language_info": {
   "codemirror_mode": {
    "name": "ipython",
    "version": 3
   },
   "file_extension": ".py",
   "mimetype": "text/x-python",
   "name": "python",
   "nbconvert_exporter": "python",
   "pygments_lexer": "ipython3",
   "version": "3.7.16"
  }
 },
 "nbformat": 4,
 "nbformat_minor": 4
}
